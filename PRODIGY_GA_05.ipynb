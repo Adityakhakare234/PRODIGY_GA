{
  "nbformat": 4,
  "nbformat_minor": 0,
  "metadata": {
    "colab": {
      "provenance": []
    },
    "kernelspec": {
      "name": "python3",
      "display_name": "Python 3"
    },
    "language_info": {
      "name": "python"
    }
  },
  "cells": [
    {
      "cell_type": "code",
      "execution_count": 1,
      "metadata": {
        "id": "U67DoE6awpKc"
      },
      "outputs": [],
      "source": [
        "import tensorflow as tf\n",
        "import tensorflow_hub as hub\n",
        "import numpy as np\n",
        "from PIL import Image\n",
        "\n",
        "# Load the pre-trained style transfer model from TensorFlow Hub\n",
        "model = hub.load(\"https://tfhub.dev/google/magenta/arbitrary-image-stylization-v1-256/2\")\n",
        "\n",
        "# Function to apply style transfer\n",
        "def style_transfer(content_image, style_image):\n",
        "    content = tf.image.convert_image_dtype(content_image, tf.float32)[tf.newaxis, ...]\n",
        "    style = tf.image.convert_image_dtype(style_image, tf.float32)[tf.newaxis, ...]\n",
        "    stylized_image = model(content, style)[0]\n",
        "    return tf.image.convert_image_dtype(stylized_image, tf.uint8)\n",
        "\n",
        "# Example usage (Load images before calling)\n",
        "# stylized_output = style_transfer(content_image, style_image)"
      ]
    }
  ]
}