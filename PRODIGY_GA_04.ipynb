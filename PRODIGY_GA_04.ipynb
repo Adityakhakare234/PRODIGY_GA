{
  "nbformat": 4,
  "nbformat_minor": 0,
  "metadata": {
    "colab": {
      "provenance": []
    },
    "kernelspec": {
      "name": "python3",
      "display_name": "Python 3"
    },
    "language_info": {
      "name": "python"
    }
  },
  "cells": [
    {
      "cell_type": "code",
      "source": [
        "import tensorflow as tf\n",
        "from tensorflow.keras import layers\n",
        "\n",
        "# Define the generator\n",
        "def build_generator():\n",
        "    inputs = layers.Input(shape=[256, 256, 3])\n",
        "    down1 = layers.Conv2D(64, (4, 4), strides=2, padding='same', activation='relu')(inputs)\n",
        "    down2 = layers.Conv2D(128, (4, 4), strides=2, padding='same', activation='relu')(down1)\n",
        "    up1 = layers.Conv2DTranspose(64, (4, 4), strides=2, padding='same', activation='relu')(down2)\n",
        "    outputs = layers.Conv2DTranspose(3, (4, 4), strides=2, padding='same', activation='tanh')(up1)\n",
        "    return tf.keras.Model(inputs, outputs)\n",
        "\n",
        "# Define the discriminator\n",
        "def build_discriminator():\n",
        "    inputs = layers.Input(shape=[256, 256, 3])\n",
        "    targets = layers.Input(shape=[256, 256, 3])\n",
        "    x = layers.Concatenate()([inputs, targets])\n",
        "    x = layers.Conv2D(64, (4, 4), strides=2, padding='same', activation='relu')(x)\n",
        "    x = layers.Conv2D(128, (4, 4), strides=2, padding='same', activation='relu')(x)\n",
        "    x = layers.Conv2D(1, (4, 4), padding='same', activation='sigmoid')(x)\n",
        "    return tf.keras.Model([inputs, targets], x)\n",
        "\n",
        "generator = build_generator()\n",
        "discriminator = build_discriminator()\n"
      ],
      "metadata": {
        "id": "hUfZHoQwuTV5"
      },
      "execution_count": 1,
      "outputs": []
    }
  ]
}