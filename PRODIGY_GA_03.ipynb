{
  "nbformat": 4,
  "nbformat_minor": 0,
  "metadata": {
    "colab": {
      "provenance": []
    },
    "kernelspec": {
      "name": "python3",
      "display_name": "Python 3"
    },
    "language_info": {
      "name": "python"
    }
  },
  "cells": [
    {
      "cell_type": "code",
      "execution_count": null,
      "metadata": {
        "id": "pAGj0nqOiLnN",
        "colab": {
          "base_uri": "https://localhost:8080/"
        },
        "outputId": "58312231-681b-433c-f07f-b1891cc55a05"
      },
      "outputs": [
        {
          "output_type": "stream",
          "name": "stdout",
          "text": [
            "Generated Text:\n",
            "\n",
            "kingdom. The people of the knight to the kingdom were happy and kind king. The king sent his bravest knight to the dragon, and kind king. The people of the knight was restored to confront the mountains, threatening the peaceful kingdom. The people of the end, the end, the end,\n"
          ]
        }
      ],
      "source": [
        "import random\n",
        "\n",
        "corpus = \"\"\"\n",
        "Once upon a time in a land far away, there was a kingdom ruled by a wise and kind king.\n",
        "The people of the kingdom were happy and prosperous, living in harmony with nature.\n",
        "But one day, an unexpected event changed everything.\n",
        "A dragon appeared in the mountains, threatening the peaceful kingdom.\n",
        "The king sent his bravest knight to confront the dragon, and a fierce battle ensued.\n",
        "In the end, the knight was victorious, and peace was restored to the kingdom.\n",
        "\"\"\"\n",
        "\n",
        "words = corpus.split()\n",
        "\n",
        "markov_chain = {}\n",
        "\n",
        "for i in range(len(words) - 1):\n",
        "    word = words[i]\n",
        "    next_word = words[i + 1]\n",
        "\n",
        "    if word not in markov_chain:\n",
        "        markov_chain[word] = []\n",
        "    markov_chain[word].append(next_word)\n",
        "\n",
        "def generate_text(start_word, length=50):\n",
        "    current_word = start_word\n",
        "    output = [current_word]\n",
        "\n",
        "    for _ in range(length - 1):\n",
        "        next_words = markov_chain.get(current_word, [])\n",
        "        if not next_words:\n",
        "            break\n",
        "        current_word = random.choice(next_words)\n",
        "        output.append(current_word)\n",
        "\n",
        "    return \" \".join(output)\n",
        "\n",
        "start_word = random.choice(words)\n",
        "generated_text = generate_text(start_word)\n",
        "print(\"Generated Text:\\n\")\n",
        "print(generated_text)\n"
      ]
    }
  ]
}